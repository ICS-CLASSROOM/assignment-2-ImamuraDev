{
 "cells": [
  {
   "cell_type": "code",
   "execution_count": 15,
   "id": "1443cdff",
   "metadata": {},
   "outputs": [],
   "source": [
    "import re\n"
   ]
  },
  {
   "cell_type": "markdown",
   "id": "f8b26273",
   "metadata": {},
   "source": [
    "For this assignment, you will need to make sure you're running from a PySpark docker environment I introduced in class. You can start the docker pySpark docker environment using the following command:\n",
    "\n",
    "```\n",
    "docker run --rm -p 4040:4040 -p 8888:8888 -v $(pwd):/home/jovyan/work jupyter/all-spark-notebook\n",
    "```\n",
    "\n",
    "Make sure you run the command from the directory containing this jupyter notebook and your data folder.\n",
    "\n",
    "\n",
    "</b>\n",
    "# WARNING: For some reason, ipynbb document didn't always sync properly when I was pushing to github. As such, please push often and make sure your incremental changes appear on GitHub.\n",
    "</b>"
   ]
  },
  {
   "cell_type": "markdown",
   "id": "66b0d3e6",
   "metadata": {},
   "source": [
    "### Part 1\n",
    "\n",
    "The first part will use Spark to analyze the following books, which I have downloaded for you to use from Project Gutenberg. The files are saved to the data folder.\n",
    "\n",
    "| File name | Book Title|\n",
    "|:---------:|:----------|\n",
    "|43.txt | The Strange Case of Dr. Jekyll and Mr. Hyde by Robert Louis Stevenson|\n",
    "|84.txt | Frankenstein; Or, The Modern Prometheus by Mary Wollstonecraft Shelley |\n",
    "|398.txt  | The First Book of Adam and Eve by Rutherford Hayes Platt|\n",
    "|3296.txt | The Confessions of St. Augustine by Bishop of Hippo Saint Augustine|\n",
    "\n",
    "The objective is to explore whether we can detect similarity between books within the same topic using word-based similarity. \n",
    "\n",
    "The task of identifying similar texts in Natural Language Processing is crucial. A naive method for determining whether two documents are similar is to treat them as collections of words (bag of words) and use the number of words they share as a proxy for their similarity. It makes sense that two books with religion as the topic (e.g.  `398.txt` and `3296.txt`) would have more words in common than a book that discusses religion and a book that discusses science fiction (e.g. books `84.txt` and `398.txt`). \n",
    "\n",
    "As mentioned above, we will be using Spark to analyze the data. Although Spark is not needed for such a small example, the platform would be ideal for analyzing very large collections of documents, like those often analyzed by large corporations\n",
    "\n",
    "This part of the assignment will rely exclusively on RDDs."
   ]
  },
  {
   "cell_type": "markdown",
   "id": "87a15530",
   "metadata": {},
   "source": [
    "### Q1. \n",
    "Start by importing Spark and making sure your environment is set up properly for the assignment.\n",
    "\n",
    "Import the spark context necessary to load a document as an RDD; ignore any error messages"
   ]
  },
  {
   "cell_type": "code",
   "execution_count": 3,
   "id": "e80df4d4",
   "metadata": {},
   "outputs": [
    {
     "data": {
      "text/plain": [
       "'3.1.2'"
      ]
     },
     "execution_count": 3,
     "metadata": {},
     "output_type": "execute_result"
    }
   ],
   "source": [
    "from pyspark import SparkContext\n",
    "sc = SparkContext()\n",
    "sc.version"
   ]
  },
  {
   "cell_type": "markdown",
   "id": "336d5c9d",
   "metadata": {},
   "source": [
    "### Q2 \n",
    "\n",
    "Read in the file `43.txt` as a spark RDD and save it to a variable called `book_43`\n",
    " * make sure `book_43` is of type MapPartitionsRDD, i.e.,\n",
    "   * str(type(book_43)) == \"<class 'pyspark.rdd.RDD'>\" should return True "
   ]
  },
  {
   "cell_type": "code",
   "execution_count": 11,
   "id": "3d4164f5",
   "metadata": {},
   "outputs": [
    {
     "data": {
      "text/plain": [
       "True"
      ]
     },
     "execution_count": 11,
     "metadata": {},
     "output_type": "execute_result"
    }
   ],
   "source": [
    "book_43 = sc.textFile('data/43.txt')\n",
    "str(type(book_43)) == \"<class 'pyspark.rdd.RDD'>\""
   ]
  },
  {
   "cell_type": "markdown",
   "id": "0b8c051e",
   "metadata": {},
   "source": [
    "### Q3\n",
    "\n",
    "How many lines does `book_43` contain?\n",
    "* You can only use operations or actions on RDDs to answer the question. \n",
    "  * Code that uses methods such as `some_rdd.X().Y().Z()...` is allowed\n",
    "  * Code that uses functions such as `some_func(...)` is not allowed"
   ]
  },
  {
   "cell_type": "code",
   "execution_count": 14,
   "id": "b3c5a06e",
   "metadata": {},
   "outputs": [
    {
     "data": {
      "text/plain": [
       "2935"
      ]
     },
     "execution_count": 14,
     "metadata": {},
     "output_type": "execute_result"
    }
   ],
   "source": [
    "book_43.count()"
   ]
  },
  {
   "cell_type": "markdown",
   "id": "bca2bc6d",
   "metadata": {},
   "source": [
    "### Q4 \n",
    "\n",
    "Prior to analyzing the words contained in this book, we need to first remove the occurrences of non-alphabetical characters and numbers from the text. You can use the following function, which takes a line as input, removes digits and non-word characters, and splits it into a collection of words. \n",
    "\n",
    "```python\n",
    "def clean_split_line(line):\n",
    "    a = re.sub('\\d+', '', line)\n",
    "    b = re.sub('[\\W]+', ' ', a)\n",
    "    return b.upper().split()\n",
    "```\n",
    "\n",
    "Use the fucntion above on the variable (test_line) to see what it returns.\n",
    "```python\n",
    "test_line = \"This is an example of that contains 234 and a dash-containing number\"\n",
    "```"
   ]
  },
  {
   "cell_type": "code",
   "execution_count": 19,
   "id": "55ce2754",
   "metadata": {},
   "outputs": [
    {
     "data": {
      "text/plain": [
       "['This',\n",
       " 'is',\n",
       " 'an',\n",
       " 'example',\n",
       " 'of',\n",
       " 'that',\n",
       " 'contains',\n",
       " 'and',\n",
       " 'a',\n",
       " 'dash',\n",
       " 'containing',\n",
       " 'number']"
      ]
     },
     "execution_count": 19,
     "metadata": {},
     "output_type": "execute_result"
    }
   ],
   "source": [
    "def clean_split_line(line):\n",
    "    line = re.sub('\\d+', '', line)\n",
    "    line = re.sub('[\\W]+', ' ', line)\n",
    "    return line.split()\n",
    "test_line = \"This is an example of that contains 234 and a dash-containing number\"\n",
    "\n",
    "clean_split_line(test_line)"
   ]
  },
  {
   "cell_type": "markdown",
   "id": "b5e951e5",
   "metadata": {},
   "source": [
    "### Q5\n",
    "\n",
    "How many words does `book_43` contain? To answer this question, you may find it useful to apply the function in a spark-fashion. \n",
    "* You can only use operations or actions on RDDs to answer the question. \n",
    "  * Code that uses methods such as `some_rdd.X().Y().Z()...` is allowed\n",
    "  * Code that uses functions such as `some_func(...)` is not allowed\n"
   ]
  },
  {
   "cell_type": "code",
   "execution_count": 23,
   "id": "99c1b93f",
   "metadata": {},
   "outputs": [
    {
     "data": {
      "text/plain": [
       "29116"
      ]
     },
     "execution_count": 23,
     "metadata": {},
     "output_type": "execute_result"
    }
   ],
   "source": [
    "book_43.flatMap(clean_split_line).count()"
   ]
  },
  {
   "cell_type": "markdown",
   "id": "30d62952",
   "metadata": {},
   "source": [
    "### Q6\n",
    "\n",
    "How many of the words in book_43 are unique? Given that words can appear in lower, upper or mixed case (ex. The, THE, the), make sure you convert the words into lower case before counting them.\n"
   ]
  },
  {
   "cell_type": "code",
   "execution_count": 2,
   "id": "07785c77",
   "metadata": {},
   "outputs": [],
   "source": [
    "# book_43.flatMap(clean_split_line).map(lambda x: x.lower()).distinct().count()"
   ]
  },
  {
   "cell_type": "markdown",
   "id": "91b13b79",
   "metadata": {},
   "source": [
    "### Q7\n",
    "\n",
    "* Generate an `RDD` that contains the frequency of each word in `book_43`. Call the variable `book_43_counts`. Each item in the `RDD` should be a tuple with the word as the first element of the tuple and the count as the second item of the tuple. The collection should look like the following:\n",
    "\n",
    "[('project', 88), (\"the\", 1807), ... ]\n",
    "\n",
    "* Such a collection may contain a large number of words and it would be imprudent to transfer all the words onto the same machine to display it. Instead, to explore the content of such a collection, display only the first element in your list. \n",
    "\n",
    "* Given the random nature of this operation, the first element element displayed may be different. The first entry for me was:\n",
    "```\n",
    "[('project', 88)]\n",
    "```\n",
    "\n",
    "* You can only use operations or actions to answer the question. \n",
    "* Code that uses methods such as `some_rdd.X().Y().Z()...` is allowed\n",
    "* Code that uses functions such as `some_func(...)` is not allowed\n"
   ]
  },
  {
   "cell_type": "code",
   "execution_count": 31,
   "id": "42729b95",
   "metadata": {},
   "outputs": [
    {
     "data": {
      "text/plain": [
       "[('project', 88)]"
      ]
     },
     "execution_count": 31,
     "metadata": {},
     "output_type": "execute_result"
    }
   ],
   "source": [
    "book_43_counts = book_43.flatMap(clean_split_line).map(lambda x: (x.lower(),1)).reduceByKey(lambda x,y: x+y)\n",
    "book_43_counts.take(1)"
   ]
  },
  {
   "cell_type": "markdown",
   "id": "1ee4534c",
   "metadata": {},
   "source": [
    "### Q8\n",
    "\n",
    "Sort `book_43_counts` and print the 20 most frequent words in book_43. \n",
    "  * Hint: function `sortByKey` sorts a collection of tuples on the first element element of the list. You can easily change the order of the items in each element and use `sortByKey` to sort on the second item of each element in `book_43_counts`\n",
    "  * You can only use operations or actions to answer the question. \n",
    "  * Code that uses methods such as `some_rdd.X().Y().Z()...` is allowed\n",
    "  * Code that uses functions such as `some_func(...)` is not allowed"
   ]
  },
  {
   "cell_type": "code",
   "execution_count": 4,
   "id": "d51b8ea9",
   "metadata": {},
   "outputs": [],
   "source": [
    "book_43_counts.map(lambda x:(x[1], x[0])).sortByKey(ascending=False).take(10)"
   ]
  },
  {
   "cell_type": "markdown",
   "id": "13420b09",
   "metadata": {},
   "source": [
    "### Q9\n",
    "\n",
    "You must have noted that the most frequent words in `book_43_counts` include stop words such as `of`, `the`, `and`, etc.\n",
    "\n",
    "It would be inefficient to compare documents based on whether or not they contain stop words; those are common to all documents. As such, it's common to remove such stop words. The librarary `sklearn.feature_extraction` provides access to a collection of English stop words, which can be loaded using the following snippet:\n",
    "\n",
    "```\n",
    "from sklearn.feature_extraction import stop_words\n",
    "stop_words.ENGLISH_STOP_WORDS\n",
    "```\n",
    "\n",
    "* Explore ENGLISH_STOP_WORDS (it's a frozen set data structure, i.e., a set that you cannot modify) by printing any 10 words from it. \n",
    " * Hint: convert the frozen set to something you can subscript\n"
   ]
  },
  {
   "cell_type": "code",
   "execution_count": 44,
   "id": "0e0ad996",
   "metadata": {},
   "outputs": [
    {
     "data": {
      "text/plain": [
       "['once',\n",
       " 'thru',\n",
       " 'sometimes',\n",
       " 'seem',\n",
       " 'give',\n",
       " 'everything',\n",
       " 'upon',\n",
       " 'hereby',\n",
       " 'never',\n",
       " 'formerly']"
      ]
     },
     "execution_count": 44,
     "metadata": {},
     "output_type": "execute_result"
    }
   ],
   "source": [
    "from sklearn.feature_extraction.text import ENGLISH_STOP_WORDS\n",
    "list(ENGLISH_STOP_WORDS)[:10]"
   ]
  },
  {
   "cell_type": "markdown",
   "id": "625eb521",
   "metadata": {},
   "source": [
    "### Q10\n",
    "\n",
    "Filter out the words in `book_43_counts` by removing those that appear in the ENGLISH_STOP_WORDS.\n",
    "Save the results to a new variable called `book_43_counts_filtered`\n",
    "  * You can only use operarations or actions on RDDs to answer the question. \n",
    "  * Code that uses methods such as `some_rdd.X().Y().Z()...` is allowed\n",
    "  * Code that uses function such as `some_func(...)` is not allowed\n"
   ]
  },
  {
   "cell_type": "code",
   "execution_count": 52,
   "id": "5602b4ff",
   "metadata": {},
   "outputs": [],
   "source": [
    "book_43_counts_filtered = book_43_counts.filter(lambda x: x[0] not in ENGLISH_STOP_WORDS)\n"
   ]
  },
  {
   "cell_type": "markdown",
   "id": "3d0b3a80",
   "metadata": {},
   "source": [
    "### Q11\n",
    "\n",
    "* How many words are left in `book_43_counts_filtered` after removing the stop words"
   ]
  },
  {
   "cell_type": "code",
   "execution_count": 51,
   "id": "a5bdf083",
   "metadata": {},
   "outputs": [
    {
     "data": {
      "text/plain": [
       "4296"
      ]
     },
     "execution_count": 51,
     "metadata": {},
     "output_type": "execute_result"
    }
   ],
   "source": [
    "book_43_counts_filtered.count()"
   ]
  },
  {
   "cell_type": "markdown",
   "id": "23ffd755",
   "metadata": {},
   "source": [
    "### Q12 \n",
    "\n",
    "* Create a function called *process_RDD* that combines the relevant steps you proposed above to make it convenient to apply them to the remaining four books. Your function should accept an input text file path and:\n",
    " * Reads in the file as a textRDD\n",
    " * Cleans and splits the line using `clean_split_line`\n",
    " * Filters out the stop words\n",
    " * Returns a word count RDD where each item is a tuple of words and its count.\n",
    " \n"
   ]
  },
  {
   "cell_type": "code",
   "execution_count": 56,
   "id": "eff5d5e8",
   "metadata": {},
   "outputs": [],
   "source": [
    "def process_RDD(file_path):\n",
    "    book_rdd = sc.textFile(file_path)\n",
    "    book_rdd_counts = book_rdd.flatMap(clean_split_line).map(lambda x: (x.lower(),1)).reduceByKey(lambda x,y: x+y)\n",
    "    book_rdd_counts_filtered = book_rdd_counts.filter(lambda x: x[0] not in ENGLISH_STOP_WORDS)\n",
    "    return book_rdd_counts_filtered"
   ]
  },
  {
   "cell_type": "markdown",
   "id": "ba59c9c5",
   "metadata": {},
   "source": [
    "### Q13 \n",
    "\n",
    "Apply the function `process_RDD` to `book_84`, `book_398` and `book_3296` and save the results to variables `book_84_counts_filtered`, `book_398_counts_filtered` and `book_3296_counts_filtered` respectively. How many distinct words does each book contain after filtering the stop words.\n"
   ]
  },
  {
   "cell_type": "code",
   "execution_count": 62,
   "id": "08a24f66",
   "metadata": {},
   "outputs": [
    {
     "name": "stdout",
     "output_type": "stream",
     "text": [
      "Book 84 count is:  7016\n",
      "Book 398 count is:  2421\n",
      "Book 3296 count is:  7293\n"
     ]
    }
   ],
   "source": [
    "book_84_counts_filtered = process_RDD(\"data/84.txt\")\n",
    "book_398_counts_filtered = process_RDD(\"data/398.txt\")\n",
    "book_3296_counts_filtered = process_RDD(\"data/3296.txt\")\n",
    "\n",
    "print(\"Book 84 count is: \", book_84_counts_filtered.count())\n",
    "print(\"Book 398 count is: \", book_398_counts_filtered.count())\n",
    "print(\"Book 3296 count is: \", book_3296_counts_filtered.count())"
   ]
  },
  {
   "cell_type": "markdown",
   "id": "7fb9680f",
   "metadata": {},
   "source": [
    "### Q14 \n",
    "\n",
    "We discussed how to evaluate similarity between two texts using the number of words they share. We hypothesized that books that are similar should have more words in common than books that are dissimilar. If that holds, `book_398` and `book_3296`, which both pertain to religion, will have more words in common than, say, `book_84` and `book_398`. Test this hypothesis by writing code that compares and prints the number of words shared between `book_398` and `book_3296` and then between `book_84` and `book_398`.\n"
   ]
  },
  {
   "cell_type": "code",
   "execution_count": 73,
   "id": "ac6b73e0",
   "metadata": {},
   "outputs": [
    {
     "name": "stdout",
     "output_type": "stream",
     "text": [
      "number of words shared between book_398 and book_3296 is:\n",
      "1790\n",
      "number of words shared between book_84 and book_3296 is:\n",
      "3608\n"
     ]
    }
   ],
   "source": [
    "print(\"number of words shared between book_398 and book_3296 is:\")\n",
    "print(book_398_counts_filtered.map(lambda x: x[0]).intersection(book_3296_counts_filtered.map(lambda x: x[0])).count())\n",
    "print(\"number of words shared between book_84 and book_3296 is:\")\n",
    "print(book_84_counts_filtered.map(lambda x: x[0]).intersection(book_3296_counts_filtered.map(lambda x: x[0])).count())"
   ]
  },
  {
   "cell_type": "markdown",
   "id": "cef9f326",
   "metadata": {},
   "source": [
    "### Q15\n",
    "\n",
    "* Based on the above, do you think counting the number of shared words is a good idea as a distance metric for evaluating topic similarity? Justify your answer?\n",
    "* Hint: What do *book_84* and *book_3296* have in common? "
   ]
  },
  {
   "cell_type": "markdown",
   "id": "6587ae14",
   "metadata": {},
   "source": [
    "######  ANSWER\n",
    "Not a good idea. Both book_84 and book_3296 are moch larger than the other books are most likely to have more words in common just by virtue of their length?"
   ]
  },
  {
   "cell_type": "markdown",
   "id": "a6f8f857",
   "metadata": {},
   "source": [
    "## Part II \n",
    "\n",
    "Another approach to estimating similarity consists of computing the Euclidean distance across a set of words. For example, suppose we have 3 documents A, B and C with the following counts for the words `evolution`, `DNA`, `biology` and `finance`. \n",
    "\n",
    "```python \n",
    "A = [4, 9, 6, 8]\n",
    "B = [3, 7, 7, 10]\n",
    "C = [15, 10, 1, 1]\n",
    "```\n",
    "Although all documents contain exactly the four words, the number of times these words appear in each book may be indicative of thier topic. For example, documents `A` and `B` are more likely to be business related since they contain the word `finance` more frequently (8 and 10 times respectively). Document `C` may be a technical document since it focuses on more technical words (`evolution` and `DNA`) and less on the words `finance`.\n",
    "\n",
    "The Euclidean distance, which can be computed using the `scikit` snippet below, is more indicative of topic-relatedness between the two documents.\n",
    "\n",
    "```python\n",
    "from scipy.spatial.distance import euclidean \n",
    "print(f\"The Euclidean distance between A and B is: {euclidean(A, B)}\")\n",
    "\n",
    "print(f\"The Euclidean distance between A and C is: {euclidean(A, C)}\")\n",
    "\n",
    "print(f\"The Euclidean distance between B and C is: {euclidean(B, C)}\")\n",
    "```\n"
   ]
  },
  {
   "cell_type": "code",
   "execution_count": 77,
   "id": "7838f937",
   "metadata": {},
   "outputs": [
    {
     "name": "stdout",
     "output_type": "stream",
     "text": [
      "The Euclidean distance between A and B is: 3.1622776601683795\n",
      "The Euclidean distance between A and C is: 14.0\n",
      "The Euclidean distance between B and C is: 16.431676725154983\n"
     ]
    }
   ],
   "source": [
    "from scipy.spatial.distance import euclidean \n",
    "\n",
    "A = [4, 9, 6, 8]\n",
    "B = [3, 7, 7, 10]\n",
    "C = [15, 10, 1, 1]\n",
    "\n",
    "print(f\"The Euclidean distance between A and B is: {euclidean(A, B)}\")\n",
    "print(f\"The Euclidean distance between A and C is: {euclidean(A, C)}\")\n",
    "print(f\"The Euclidean distance between B and C is: {euclidean(B, C)}\")"
   ]
  },
  {
   "cell_type": "markdown",
   "id": "9abdc35e",
   "metadata": {},
   "source": [
    "### Q16\n",
    "\n",
    "To calculate the Euclidean distance, we must first identify the set of words by which we will compare the documents. Here, we will explore the words that are common to all 4 documents. We will store the data in a matrix called `counts_matrix`.\n",
    "\n",
    "Start by finding the words that are common to all four documents after stop-word filtering and store the counts for each word in a column of `counts_matrix`. \n",
    "\n",
    "To take the previous example, you can generate an emtpy matrix with 3 lines (documents `A`, `B` and `C`) and 4 columns (words `evolution`, `DNA`, `biology` and `finance`) using the following code.\n",
    "\n",
    "```python\n",
    "import numpy as np\n",
    "counts_matrix = np.zeros([3,4])\n",
    "```\n",
    "\n",
    "After generting the counts, you can fill the counts for a document, say `A`, using the following code:\n",
    "\n",
    "```python\n",
    "counts_matrix[0, :] = [4, 9, 6, 8] \n",
    "```\n",
    "* Other than for building `counts_matrix` you should exclusively use operations or actions on the `RDD` to answer this question. \n",
    "  * Code that uses methods such as `some_rdd.X().Y().Z()...` is allowed\n",
    "  * Code that uses functions such as `some_func(...)` is not allowed\n"
   ]
  },
  {
   "cell_type": "code",
   "execution_count": 96,
   "id": "c3cae946",
   "metadata": {},
   "outputs": [],
   "source": [
    "common_words = (\n",
    "book_43_counts_filtered.\n",
    "    map(lambda x: x[0]).\n",
    "    intersection(book_84_counts_filtered.map(lambda x: x[0])).\n",
    "    intersection(book_398_counts_filtered.map(lambda x: x[0])).\n",
    "    intersection(book_3296_counts_filtered.map(lambda x: x[0]))\n",
    ").collect()\n",
    "counts_matrix = np.zeros([4,len(common_words)])\n",
    "\n",
    "x = book_43_counts_filtered.filter(lambda x: x[0] in common_words).collect()\n",
    "counts_matrix[0,:]= [x[1] for x in x]\n",
    "\n",
    "x = book_84_counts_filtered.filter(lambda x: x[0] in common_words).collect()\n",
    "counts_matrix[1,:]= [x[1] for x in x]\n",
    "\n",
    "x = book_398_counts_filtered.filter(lambda x: x[0] in common_words).collect()\n",
    "counts_matrix[2,:]= [x[1] for x in x]\n",
    "\n",
    "x = book_3296_counts_filtered.filter(lambda x: x[0] in common_words).collect()\n",
    "counts_matrix[3,:]= [x[1] for x in x]"
   ]
  },
  {
   "cell_type": "markdown",
   "id": "124bcdd8",
   "metadata": {},
   "source": [
    "### Q17\n",
    "\n",
    "Compute the Euclidean distance between `book_398` and `book_3296`, which both talk about religion and `book_84` and `book_398`. What do you conclude about using the Euclidean distance for evaluating topic relatedness across documents?\n"
   ]
  },
  {
   "cell_type": "code",
   "execution_count": 99,
   "id": "7b6a81dd",
   "metadata": {},
   "outputs": [
    {
     "name": "stdout",
     "output_type": "stream",
     "text": [
      "The Euclidean distance between        book_398 and book_3296 is: 1470.8415958219293\n",
      "The Euclidean distance between       book_84 and book_398 is: 867.2508287687017\n"
     ]
    }
   ],
   "source": [
    "print(f\"The Euclidean distance between  \\\n",
    "      book_398 and book_3296 is: {euclidean(counts_matrix[2], counts_matrix[3])}\")\n",
    "print(f\"The Euclidean distance between \\\n",
    "      book_84 and book_398 is: {euclidean(counts_matrix[1], counts_matrix[2])}\")\n"
   ]
  },
  {
   "cell_type": "markdown",
   "id": "89981b46",
   "metadata": {},
   "source": [
    "Again, the counts are biased simply due to the fact that both have more words, "
   ]
  },
  {
   "cell_type": "markdown",
   "id": "3f4e54e6",
   "metadata": {},
   "source": [
    "### Q18\n",
    "\n",
    "Bonus question (5 points): Can you think of a few things we could do to improve similarity between documents that pertain to the same topic. Jutify your answer without given codem"
   ]
  },
  {
   "cell_type": "markdown",
   "id": "5c8c6de1",
   "metadata": {},
   "source": [
    "#### Answer\n",
    "\n",
    "* Normalize the data by the total number of words in the bool\n",
    "* Select words that are common to all four biases words that are common to one topic (ex. Religion). All those words, which are highly specific are missing.\n",
    "* Ultimately, words alone don't mean much. If a book uses the words Religion and Dogma and the second book uses the words faith and belief, the match would be nil. If, however, we could use synonyms, we would know that all four 4 words are synonymous. "
   ]
  },
  {
   "cell_type": "markdown",
   "id": "aedf1d74",
   "metadata": {},
   "source": [
    "Part III\n",
    "\n",
    "In this part we will build some basic analytics for a dataset consisting of flight arrival and departure details for all commercial flights within the USA in a single month. While this dataset can be managed uisng Pandas (<1M records), scaling to a yearly or longer reports requires using spark.\n",
    "\n",
    "Here, you should use exclusively `SparkDatFrames. \n",
    "\n",
    "Here we are interested in analyzing this dataset to allow you to better schedule trips. For example:\n",
    " * avoid carriers that are most often associated with delays\n",
    " * avoid departure days where delays are most frequent\n",
    " * avoid airport wich are associate with delays or long taxxying time\n",
    " \n",
    "\n",
    "The information about the fields can be found [here](https://dataverse.harvard.edu/dataset.xhtml;jsessionid=0414e25969eccd0e88ae4d64fa0b?persistentId=doi%3A10.7910%2FDVN%2FHG7NV7&version=&q=&fileTypeGroupFacet=&fileTag=%221.+Documentation%22&fileSortField=date&fileSortOrder=desc)\n"
   ]
  },
  {
   "cell_type": "code",
   "execution_count": null,
   "id": "443ead46",
   "metadata": {},
   "outputs": [],
   "source": [
    "QX\n",
    "\n",
    "Load the file `flight_info.csv` into a spark DataFrame called `fight_info`.\n",
    "\n",
    "  * note that you will have to create sparkSession prior to loading the data\n",
    "  \n",
    "* How many entries does the file contains.\n",
    "\n",
    "\n"
   ]
  },
  {
   "cell_type": "code",
   "execution_count": null,
   "id": "3ad5e6ad",
   "metadata": {},
   "outputs": [],
   "source": [
    "from pyspark.sql import SparkSession\n",
    "session = SparkSession(sc)\n",
    "fight_info  = session.read.csv('data/flight_info.csv', header=True)\n",
    "fight_info.count()"
   ]
  },
  {
   "cell_type": "code",
   "execution_count": null,
   "id": "8a71e8bd",
   "metadata": {},
   "outputs": [],
   "source": [
    "QX Use pySpark-SQL or pandas like syntax to compute howmany airlines are represented in this dataset?\n",
    "The airline info is stored in a field called\n",
    "* UniqueCarrier: Represents the unique carrier code (ex.AA = American Airlines) \n"
   ]
  },
  {
   "cell_type": "code",
   "execution_count": null,
   "id": "73fd7b0b",
   "metadata": {},
   "outputs": [],
   "source": [
    "session.catalog.dropTempView(\"flights\")\n",
    "fight_info.createTempView(\"flights\")"
   ]
  },
  {
   "cell_type": "code",
   "execution_count": null,
   "id": "dae8031c",
   "metadata": {},
   "outputs": [],
   "source": [
    "fight_info.head(1)"
   ]
  },
  {
   "cell_type": "code",
   "execution_count": null,
   "id": "663140a5",
   "metadata": {},
   "outputs": [],
   "source": [
    "\n",
    "session.sql(\"SELECT DISTINCT(UniqueCarrier) FROM flights\").collect()"
   ]
  },
  {
   "cell_type": "code",
   "execution_count": null,
   "id": "1d45b048",
   "metadata": {},
   "outputs": [],
   "source": [
    "QX \n",
    "This files contains various field which we will explore the file stored in this file throughtout this third part. Three of the fields we are interested in are for this question are:\n",
    "\n",
    "* CRSDepTime:  Represents the scheduled departure time\n",
    "* DepTime: Represents the actual departure time\n",
    "\n",
    "Compute and plot the number of flight delayed per each carried code represented in this dataset. Sort the data by descreasing order of delays.\n",
    "  * A delay is observed when `DepTime` > `CRSDepTime`"
   ]
  },
  {
   "cell_type": "code",
   "execution_count": null,
   "id": "c72cff25",
   "metadata": {},
   "outputs": [],
   "source": [
    "query = \"\"\"\n",
    "SELECT UniqueCarrier, count(*) as COUNT\n",
    "FROM flights \n",
    "WHERE DepTime > CRSDepTime \n",
    "GROUP BY UniqueCarrier\n",
    "ORDER BY COUNT DESC\n",
    "\"\"\"\n",
    "session.sql(query).collect()"
   ]
  },
  {
   "cell_type": "code",
   "execution_count": null,
   "id": "38b32240",
   "metadata": {},
   "outputs": [],
   "source": [
    "QX Use the file \"airlines.csv\" to find the name of the airline. Here, you are required to load the the file as a pyspark DataFrame; call it airlines_info, Repeat the query above by including the flights.csv file in your query (do a join) so that you can also display the full name of the carrier (second column). the carrier code in the airlines.csv file is provided in the 4th (1-based) column\n",
    "\n",
    "Note that the file airlines.csv does not have column headers. Print a single line of your dataset to see which names were given to the column by Spark. Use that name in your query.\n",
    "\n",
    "The result will look (approximately) like (only three entries are provided):\n",
    "\n",
    "```\n",
    "[Row(UniqueCarrier='WN', first(_c1)='Southwest Airlines', count=SOME_count),\n",
    " Row(UniqueCarrier='DL', first(_c1)='Delta Air Lines', count=SOME_count),\n",
    " Row(UniqueCarrier='AA', first(_c1)='American Airlines', count=SOME_count),\n",
    " ...\n",
    " ]\n",
    "```"
   ]
  },
  {
   "cell_type": "code",
   "execution_count": null,
   "id": "30cea22b",
   "metadata": {},
   "outputs": [],
   "source": [
    "airlines_info  = session.read.csv('data/airlines.csv', header=False)\n",
    "session.catalog.dropTempView(\"airlines\")\n",
    "airlines_info.createTempView(\"airlines\")\n",
    "airlines_info.head(1)"
   ]
  },
  {
   "cell_type": "code",
   "execution_count": null,
   "id": "ba45020e",
   "metadata": {},
   "outputs": [],
   "source": [
    "query = \"\"\"\n",
    "SELECT UniqueCarrier, first(_c1), count(*) as COUNT\n",
    "FROM flights, airlines \n",
    "WHERE DepTime > CRSDepTime and UniqueCarrier == _c3\n",
    "GROUP BY UniqueCarrier\n",
    "ORDER BY COUNT DESC\n",
    "\"\"\"\n",
    "session.sql(query).collect()"
   ]
  },
  {
   "cell_type": "markdown",
   "id": "4e0123a8",
   "metadata": {},
   "source": [
    "Qx Compute the number of delays percompany per day. The day is encoded as an integer in the column `DayOfWeek` in `fight_info`. \n",
    "Sort the data by Airline (UniqueCarrier) and bu increasing values of DayOfWeek\n",
    "\n",
    "\n",
    "You results should like the following\n",
    "\n",
    "\n",
    "XXX\n"
   ]
  },
  {
   "cell_type": "code",
   "execution_count": null,
   "id": "f9971baa",
   "metadata": {},
   "outputs": [],
   "source": [
    "query = \"\"\"\n",
    "SELECT UniqueCarrier, DayOfWeek, count(*) as COUNT\n",
    "FROM flights\n",
    "WHERE DepTime > CRSDepTime\n",
    "GROUP BY UniqueCarrier, DayOfWeek\n",
    "ORDER BY UniqueCarrier DESC, DayOfWeek ASC\n",
    "\"\"\"\n",
    "session.sql(query).collect()"
   ]
  },
  {
   "cell_type": "code",
   "execution_count": null,
   "id": "00a9517c",
   "metadata": {},
   "outputs": [],
   "source": [
    "QX Counting the number of delayed flights per airline is misleading, as airlines with more flights are more likley to have delays that companies withsubstantially fiewer flights. \n",
    "\n",
    "Repeat the same query above but, for each carried, devide the number of delays by the total number of flights for that carrier\n",
    "\n"
   ]
  },
  {
   "cell_type": "code",
   "execution_count": null,
   "id": "13ae9b5e",
   "metadata": {},
   "outputs": [],
   "source": [
    "CODE GOES HERE"
   ]
  },
  {
   "cell_type": "code",
   "execution_count": null,
   "id": "2a389e49",
   "metadata": {},
   "outputs": [],
   "source": [
    "Time the query above. HOw long did it take\n"
   ]
  },
  {
   "cell_type": "code",
   "execution_count": null,
   "id": "7df43da8",
   "metadata": {},
   "outputs": [],
   "source": [
    "CODE GOES HERE"
   ]
  },
  {
   "cell_type": "code",
   "execution_count": null,
   "id": "d7e4ee9b",
   "metadata": {},
   "outputs": [],
   "source": [
    "Use one of the techniques covered in class to acceelarate this query. Time you query to see by how much the run time was improved"
   ]
  },
  {
   "cell_type": "code",
   "execution_count": null,
   "id": "30d94e25",
   "metadata": {},
   "outputs": [],
   "source": [
    "QX. Is the departure delay in minutes (i.e., DepTime - CRSDepTime) predictive of the arrival delay (ArrTime > CRSArrTime)?\n",
    "Use any approach desired (ex. skelearn which we covered in class or Spark which we did not cover) to answer the question "
   ]
  },
  {
   "cell_type": "markdown",
   "id": "94aff079",
   "metadata": {},
   "source": [
    "CODE GOES HERE"
   ]
  },
  {
   "cell_type": "code",
   "execution_count": null,
   "id": "deeef854",
   "metadata": {},
   "outputs": [],
   "source": []
  }
 ],
 "metadata": {
  "kernelspec": {
   "display_name": "Python 3 (ipykernel)",
   "language": "python",
   "name": "python3"
  },
  "language_info": {
   "codemirror_mode": {
    "name": "ipython",
    "version": 3
   },
   "file_extension": ".py",
   "mimetype": "text/x-python",
   "name": "python",
   "nbconvert_exporter": "python",
   "pygments_lexer": "ipython3",
   "version": "3.8.3"
  }
 },
 "nbformat": 4,
 "nbformat_minor": 5
}
